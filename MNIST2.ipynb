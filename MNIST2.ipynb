{
 "cells": [
  {
   "cell_type": "code",
   "execution_count": 1,
   "metadata": {
    "code_folding": [],
    "collapsed": true
   },
   "outputs": [],
   "source": [
    "# https://nextjournal.com/gkoehler/pytorch-mnist"
   ]
  },
  {
   "cell_type": "code",
   "execution_count": 1,
   "metadata": {
    "code_folding": [
     0
    ],
    "collapsed": true
   },
   "outputs": [],
   "source": [
    "# Import needed files and basic setup\n",
    "import torch\n",
    "import torch.nn as nn\n",
    "import torch.nn.functional as F\n",
    "import torch.optim as optim\n",
    "\n",
    "import torchvision\n",
    "\n",
    "import numpy as np\n",
    "\n",
    "import matplotlib\n",
    "import matplotlib.pyplot as plt\n",
    "\n",
    "from mpl_toolkits.mplot3d import Axes3D\n",
    "\n",
    "import data_gen2\n",
    "import tropical\n",
    "\n",
    "from ipywidgets import Output\n",
    "from IPython.display import display, Markdown, Latex, Math, clear_output\n",
    "\n",
    "from sklearn.neighbors import NearestNeighbors\n",
    "\n",
    "import math\n",
    "\n",
    "from cvxopt import solvers, matrix\n",
    "\n",
    "import time\n",
    "\n",
    "from IPython.display import HTML, display\n",
    "import tabulate\n",
    "\n",
    "%matplotlib notebook\n",
    "#plt.ion()"
   ]
  },
  {
   "cell_type": "code",
   "execution_count": 2,
   "metadata": {
    "code_folding": []
   },
   "outputs": [
    {
     "data": {
      "text/plain": [
       "<torch._C.Generator at 0x7fb0d80a5b90>"
      ]
     },
     "execution_count": 2,
     "metadata": {},
     "output_type": "execute_result"
    }
   ],
   "source": [
    "# Hyperparameters\n",
    "n_epochs = 3\n",
    "batch_size_train = 64\n",
    "batch_size_test = 1000\n",
    "learning_rate = 0.01\n",
    "momentum = 0.5\n",
    "log_interval = 100\n",
    "\n",
    "random_seed = 1\n",
    "torch.backends.cudnn.enabled = False\n",
    "torch.manual_seed(random_seed)"
   ]
  },
  {
   "cell_type": "code",
   "execution_count": 3,
   "metadata": {
    "code_folding": [
     0
    ],
    "collapsed": true
   },
   "outputs": [],
   "source": [
    "# Load training and testing sets\n",
    "train_loader = torch.utils.data.DataLoader(\n",
    "  torchvision.datasets.MNIST('files/', train=True, download=True,\n",
    "                             transform=torchvision.transforms.Compose([\n",
    "                               torchvision.transforms.ToTensor(),\n",
    "                               torchvision.transforms.Normalize(\n",
    "                                 (0.1307,), (0.3081,))\n",
    "                             ])),\n",
    "  batch_size=batch_size_train, shuffle=True)\n",
    "\n",
    "test_loader = torch.utils.data.DataLoader(\n",
    "  torchvision.datasets.MNIST('files/', train=False, download=True,\n",
    "                             transform=torchvision.transforms.Compose([\n",
    "                               torchvision.transforms.ToTensor(),\n",
    "                               torchvision.transforms.Normalize(\n",
    "                                 (0.1307,), (0.3081,))\n",
    "                             ])),\n",
    "  batch_size=batch_size_test, shuffle=True)"
   ]
  },
  {
   "cell_type": "code",
   "execution_count": 4,
   "metadata": {
    "collapsed": true
   },
   "outputs": [],
   "source": [
    "examples = enumerate(test_loader)\n",
    "batch_idx, (example_data, example_targets) = next(examples)"
   ]
  },
  {
   "cell_type": "code",
   "execution_count": 5,
   "metadata": {
    "code_folding": [
     0
    ],
    "collapsed": true
   },
   "outputs": [],
   "source": [
    "class Net(nn.Module):\n",
    "    def __init__(self):\n",
    "        super(Net, self).__init__()\n",
    "        self.fc1 = nn.Linear(28*28, 128)\n",
    "        self.fc2 = nn.Linear(128, 10)\n",
    "\n",
    "    def forward(self, x):\n",
    "        x = x.view(-1, 28*28)\n",
    "        x = F.relu(self.fc1(x))\n",
    "        x = F.dropout(x, training=self.training)\n",
    "        x = self.fc2(x)\n",
    "        return F.log_softmax(x)"
   ]
  },
  {
   "cell_type": "code",
   "execution_count": 6,
   "metadata": {
    "collapsed": true
   },
   "outputs": [],
   "source": [
    "network = Net()\n",
    "optimizer = optim.SGD(network.parameters(), lr=learning_rate,\n",
    "                      momentum=momentum)"
   ]
  },
  {
   "cell_type": "code",
   "execution_count": 7,
   "metadata": {
    "collapsed": true
   },
   "outputs": [],
   "source": [
    "train_losses = []\n",
    "train_acc = []\n",
    "train_counter = []\n",
    "test_losses = []\n",
    "test_acc = []\n",
    "test_counter = [i*len(train_loader.dataset) for i in range(n_epochs + 1)]"
   ]
  },
  {
   "cell_type": "code",
   "execution_count": 8,
   "metadata": {
    "code_folding": [
     0
    ],
    "collapsed": true
   },
   "outputs": [],
   "source": [
    "def train(epoch):\n",
    "    network.train()\n",
    "    for batch_idx, (data, target) in enumerate(train_loader):\n",
    "        optimizer.zero_grad()\n",
    "        output = network(data)\n",
    "        loss = F.nll_loss(output, target)\n",
    "        loss.backward()\n",
    "        optimizer.step()\n",
    "        if batch_idx % log_interval == 0:\n",
    "            pred = output.data.max(1, keepdim=True)[1]\n",
    "            correct = pred.eq(target.data.view_as(pred)).sum()\n",
    "            \n",
    "            print('Train Epoch: {} [{}/{} ({:.0f}%)]\\tLoss: {:.6f}\\tAccuracy: {:.6f}'.format(\n",
    "                  epoch, batch_idx * len(data), len(train_loader.dataset),\n",
    "                  100. * batch_idx / len(train_loader), loss.item(), 100. * correct / 64))\n",
    "            \n",
    "            train_losses.append(loss.item())\n",
    "            train_acc.append(100. * correct / 64)\n",
    "            train_counter.append((batch_idx*64) + ((epoch-1)*len(train_loader.dataset)))"
   ]
  },
  {
   "cell_type": "code",
   "execution_count": 9,
   "metadata": {
    "code_folding": [
     0
    ],
    "collapsed": true
   },
   "outputs": [],
   "source": [
    "def test():\n",
    "    network.eval()\n",
    "    test_loss = 0\n",
    "    correct = 0\n",
    "    with torch.no_grad():\n",
    "        for data, target in test_loader:\n",
    "            output = network(data)\n",
    "            test_loss += F.nll_loss(output, target, size_average=False).item()\n",
    "            pred = output.data.max(1, keepdim=True)[1]\n",
    "            correct += pred.eq(target.data.view_as(pred)).sum()\n",
    "    test_loss /= len(test_loader.dataset)\n",
    "    test_losses.append(test_loss)\n",
    "    test_acc.append(100. * correct / len(test_loader.dataset))\n",
    "    print('\\nTest set: Avg. loss: {:.4f}, Accuracy: {}/{} ({:.0f}%)\\n'.format(\n",
    "          test_loss, correct, len(test_loader.dataset),\n",
    "          100. * correct / len(test_loader.dataset)))"
   ]
  },
  {
   "cell_type": "code",
   "execution_count": 10,
   "metadata": {
    "scrolled": false
   },
   "outputs": [
    {
     "name": "stderr",
     "output_type": "stream",
     "text": [
      "/home/ben/anaconda3/lib/python3.6/site-packages/ipykernel_launcher.py:12: UserWarning: Implicit dimension choice for log_softmax has been deprecated. Change the call to include dim=X as an argument.\n",
      "  if sys.path[0] == '':\n",
      "/home/ben/anaconda3/lib/python3.6/site-packages/torch/nn/functional.py:52: UserWarning: size_average and reduce args will be deprecated, please use reduction='sum' instead.\n",
      "  warnings.warn(warning.format(ret))\n"
     ]
    },
    {
     "name": "stdout",
     "output_type": "stream",
     "text": [
      "\n",
      "Test set: Avg. loss: 2.3197, Accuracy: 921/10000 (9%)\n",
      "\n",
      "Train Epoch: 1 [0/60000 (0%)]\tLoss: 2.295876\tAccuracy: 7.000000\n",
      "Train Epoch: 1 [6400/60000 (11%)]\tLoss: 0.717218\tAccuracy: 85.000000\n",
      "Train Epoch: 1 [12800/60000 (21%)]\tLoss: 0.648279\tAccuracy: 78.000000\n",
      "Train Epoch: 1 [19200/60000 (32%)]\tLoss: 0.780567\tAccuracy: 76.000000\n",
      "Train Epoch: 1 [25600/60000 (43%)]\tLoss: 0.578907\tAccuracy: 84.000000\n",
      "Train Epoch: 1 [32000/60000 (53%)]\tLoss: 0.301817\tAccuracy: 92.000000\n",
      "Train Epoch: 1 [38400/60000 (64%)]\tLoss: 0.410833\tAccuracy: 89.000000\n",
      "Train Epoch: 1 [44800/60000 (75%)]\tLoss: 0.130464\tAccuracy: 98.000000\n",
      "Train Epoch: 1 [51200/60000 (85%)]\tLoss: 0.266642\tAccuracy: 89.000000\n",
      "Train Epoch: 1 [57600/60000 (96%)]\tLoss: 0.342565\tAccuracy: 89.000000\n",
      "\n",
      "Test set: Avg. loss: 0.2731, Accuracy: 9240/10000 (92%)\n",
      "\n",
      "Train Epoch: 2 [0/60000 (0%)]\tLoss: 0.328436\tAccuracy: 87.000000\n",
      "Train Epoch: 2 [6400/60000 (11%)]\tLoss: 0.375078\tAccuracy: 87.000000\n",
      "Train Epoch: 2 [12800/60000 (21%)]\tLoss: 0.368630\tAccuracy: 90.000000\n",
      "Train Epoch: 2 [19200/60000 (32%)]\tLoss: 0.405410\tAccuracy: 89.000000\n",
      "Train Epoch: 2 [25600/60000 (43%)]\tLoss: 0.558067\tAccuracy: 84.000000\n",
      "Train Epoch: 2 [32000/60000 (53%)]\tLoss: 0.433948\tAccuracy: 85.000000\n",
      "Train Epoch: 2 [38400/60000 (64%)]\tLoss: 0.399698\tAccuracy: 85.000000\n",
      "Train Epoch: 2 [44800/60000 (75%)]\tLoss: 0.295139\tAccuracy: 90.000000\n",
      "Train Epoch: 2 [51200/60000 (85%)]\tLoss: 0.429343\tAccuracy: 87.000000\n",
      "Train Epoch: 2 [57600/60000 (96%)]\tLoss: 0.320988\tAccuracy: 87.000000\n",
      "\n",
      "Test set: Avg. loss: 0.2078, Accuracy: 9387/10000 (93%)\n",
      "\n",
      "Train Epoch: 3 [0/60000 (0%)]\tLoss: 0.272215\tAccuracy: 89.000000\n",
      "Train Epoch: 3 [6400/60000 (11%)]\tLoss: 0.360614\tAccuracy: 92.000000\n",
      "Train Epoch: 3 [12800/60000 (21%)]\tLoss: 0.238639\tAccuracy: 92.000000\n",
      "Train Epoch: 3 [19200/60000 (32%)]\tLoss: 0.282120\tAccuracy: 92.000000\n",
      "Train Epoch: 3 [25600/60000 (43%)]\tLoss: 0.265263\tAccuracy: 85.000000\n",
      "Train Epoch: 3 [32000/60000 (53%)]\tLoss: 0.246575\tAccuracy: 89.000000\n",
      "Train Epoch: 3 [38400/60000 (64%)]\tLoss: 0.121977\tAccuracy: 96.000000\n",
      "Train Epoch: 3 [44800/60000 (75%)]\tLoss: 0.279869\tAccuracy: 93.000000\n",
      "Train Epoch: 3 [51200/60000 (85%)]\tLoss: 0.152855\tAccuracy: 96.000000\n",
      "Train Epoch: 3 [57600/60000 (96%)]\tLoss: 0.356476\tAccuracy: 89.000000\n",
      "\n",
      "Test set: Avg. loss: 0.1739, Accuracy: 9491/10000 (94%)\n",
      "\n"
     ]
    }
   ],
   "source": [
    "test()\n",
    "for epoch in range(1, n_epochs + 1):\n",
    "    train(epoch)\n",
    "    test()"
   ]
  },
  {
   "cell_type": "code",
   "execution_count": 11,
   "metadata": {
    "collapsed": true,
    "scrolled": false
   },
   "outputs": [],
   "source": [
    "# fig = plt.figure()\n",
    "# plt.plot(train_counter, train_acc, color='blue')\n",
    "# plt.plot(test_counter, test_acc, 'o', color='red')\n",
    "# plt.legend(['Train Loss', 'Test Loss'], loc='upper right')\n",
    "# plt.xlabel('number of training examples seen')\n",
    "# plt.ylabel('negative log likelihood loss')"
   ]
  },
  {
   "cell_type": "code",
   "execution_count": 12,
   "metadata": {
    "collapsed": true
   },
   "outputs": [],
   "source": [
    "params = []\n",
    "for param in network.parameters():\n",
    "    params.append(param.detach().numpy())\n",
    "\n",
    "A1 = params[0]\n",
    "b1 = params[1]\n",
    "A2 = params[2][0,:].reshape((1, -1))\n",
    "b2 = params[3][:1]\n",
    "\n",
    "#Fterms, Gterms = tropical.getTropCoeffs(A1, b1, A2, b2, doTime=True)"
   ]
  },
  {
   "cell_type": "code",
   "execution_count": 14,
   "metadata": {
    "collapsed": true
   },
   "outputs": [],
   "source": [
    "Ftermsfull = []\n",
    "Gtermsfull = []\n",
    "for i in range(0, np.size(A1, axis = 0), 10):\n",
    "    Fterms, Gterms = tropical.getTropCoeffs(A1[i:i+10, :], b1[i:i+10], A2[:, i:i+10], b2)\n",
    "    Ftermsfull.append(Fterms)\n",
    "    Gtermsfull.append(Gterms)"
   ]
  },
  {
   "cell_type": "code",
   "execution_count": 15,
   "metadata": {},
   "outputs": [
    {
     "name": "stdout",
     "output_type": "stream",
     "text": [
      "32 32\n",
      "8 128\n",
      "32 32\n",
      "128 8\n",
      "64 16\n",
      "32 32\n",
      "16 64\n",
      "16 64\n",
      "16 64\n",
      "32 32\n",
      "4 256\n",
      "8 128\n",
      "16 16\n",
      "57.0 71.0\n"
     ]
    }
   ],
   "source": [
    "prodF = 1\n",
    "prodG = 1\n",
    "for i in range(len(Ftermsfull)):\n",
    "    print(len(Ftermsfull[i]), len(Gtermsfull[i]))\n",
    "    prodF *= len(Ftermsfull[i])\n",
    "    prodG *= len(Gtermsfull[i])\n",
    "    \n",
    "print(math.log(prodF, 2), math.log(prodG, 2))"
   ]
  },
  {
   "cell_type": "code",
   "execution_count": 16,
   "metadata": {
    "collapsed": true
   },
   "outputs": [],
   "source": [
    "def multiplyTrops(trop1, trop2):\n",
    "    temp = trop1 + trop2[0, :]\n",
    "    for i in range(1, trop2.shape[0]):\n",
    "        temp = np.vstack((temp, trop1 + trop2[i, :]))\n",
    "    return temp"
   ]
  },
  {
   "cell_type": "code",
   "execution_count": 17,
   "metadata": {
    "collapsed": true
   },
   "outputs": [],
   "source": [
    "solvers.options['show_progress'] = False\n",
    "def computeW(i, k, lam, gam, nbrs, temp):\n",
    "    _, indices = nbrs.kneighbors(temp[i:i+1, :])\n",
    "    indices = indices[0,1:]\n",
    "    neighbors = temp[indices, :]\n",
    "\n",
    "    # Set up quadratic programming problem\n",
    "    Qtild = np.dot(temp[indices, :], temp[indices, :].T)\n",
    "    Etild = np.eye(k)\n",
    "    E = gam*np.bmat([[Etild, -Etild], [-Etild, Etild]])\n",
    "\n",
    "    A = np.ones((2*k, 1))\n",
    "    A[k:, :] = -1\n",
    "\n",
    "    G = -np.eye(2*k)\n",
    "    h = np.zeros((2*k, 1))\n",
    "\n",
    "    b = np.array([1.0]).reshape(1,1)\n",
    "    Q = np.bmat([[Qtild, -Qtild], [-Qtild, Qtild]]) + E\n",
    "    \n",
    "    c = np.dot(temp[indices, :], temp[i, :])\n",
    "    c = c.reshape(-1, 1)\n",
    "    c = np.bmat([[-c], [c]]) + lam\n",
    "    \n",
    "    # Solve quadratic programming problem\n",
    "    out = solvers.qp(matrix(Q), matrix(c), matrix(G), matrix(h), matrix(A.T), matrix(b))\n",
    "    \n",
    "    # If there are negative weight values, it's near the convex hull\n",
    "    w = np.array(out['x'])[:k] - np.array(out['x'])[k:]\n",
    "    return w\n",
    "\n",
    "def computeWs(points, k=1000, lam=1e-3, gam=1e-6):\n",
    "    # Rescale points to roughly 0 to 1\n",
    "    shift = np.amin(points)\n",
    "    points = points - shift\n",
    "    scale = np.amax(points)\n",
    "    points = points/scale\n",
    "    nbrs = NearestNeighbors(n_neighbors=k+1).fit(points)\n",
    "    goodIndices = []\n",
    "    ws = np.zeros((points.shape[0], k))\n",
    "\n",
    "    start = time.time()\n",
    "    end = points.shape[0]\n",
    "    for i in range(end):\n",
    "        w = computeW(i, k, lam, gam, nbrs, points)\n",
    "        ws[i, :] = w.T\n",
    "        if np.sum(w < 0) > 0:\n",
    "            goodIndices.append(i)\n",
    "        if (i+1) % 100 == 0 or i+1 == end or i == 0:\n",
    "            print('i = {}/{}\\tverts={}\\ttime={}'.format(i+1, end, len(goodIndices), time.time()-start))\n",
    "            \n",
    "    return ws, goodIndices\n",
    "\n",
    "from joblib import Parallel, delayed\n",
    "def computeWsParallel(points, k=1000, lam=1e-3, gam=1e-6):\n",
    "    shift = np.amin(points)\n",
    "    points = points - shift\n",
    "    scale = np.amax(points)\n",
    "    points = points/scale\n",
    "    nbrs = NearestNeighbors(n_neighbors=k+1).fit(points)\n",
    "    goodIndices = []\n",
    "    ws = np.zeros((points.shape[0], k))\n",
    "\n",
    "    start = time.time()\n",
    "    end = points.shape[0]\n",
    "    for i in range(0, end, 100):\n",
    "        wsT = Parallel(n_jobs=4)(delayed(computeW)(i, k, lam, gam, nbrs, points) for i in range(i, max(i+100, end)))\n",
    "        for j in range(len(wsT)):\n",
    "            ws[i, :] = wsT[j].T\n",
    "            if np.sum(wsT[j] < 0) > 0:\n",
    "                goodIndices.append(i + j)\n",
    "            print('i = {}/{}\\tverts={}\\ttime={}'.format(i+j+1, end, len(goodIndices), time.time()-start))\n",
    "            \n",
    "    return ws, goodIndices"
   ]
  },
  {
   "cell_type": "code",
   "execution_count": 18,
   "metadata": {
    "collapsed": true
   },
   "outputs": [],
   "source": [
    "# Decrease number of samples used for each reduction to reduce memory footprint\n",
    "train_loader = torch.utils.data.DataLoader(\n",
    "  torchvision.datasets.MNIST('files/', train=True, download=True,\n",
    "                             transform=torchvision.transforms.Compose([\n",
    "                               torchvision.transforms.ToTensor(),\n",
    "                               torchvision.transforms.Normalize(\n",
    "                                 (0.1307,), (0.3081,))\n",
    "                             ])),\n",
    "  batch_size=16, shuffle=True)"
   ]
  },
  {
   "cell_type": "code",
   "execution_count": 19,
   "metadata": {
    "collapsed": true,
    "scrolled": true
   },
   "outputs": [],
   "source": [
    "def getUsedIndices(temp):\n",
    "    count = set()\n",
    "    for data, target in train_loader:\n",
    "        train_data = data.view(-1, 28*28).numpy()\n",
    "        train_data = np.hstack((train_data, np.ones((train_data.shape[0], 1))))\n",
    "\n",
    "        count.update(np.argmax(np.matmul(temp, train_data.T).T, axis=1))\n",
    "        \n",
    "    return count\n"
   ]
  },
  {
   "cell_type": "code",
   "execution_count": 20,
   "metadata": {
    "collapsed": true
   },
   "outputs": [],
   "source": [
    "def addAndConvexHull(listOfFterms):\n",
    "    newFterms2 = []\n",
    "    goodIndicesFull2 = []\n",
    "    for i in range(0, len(listOfFterms)-1, 2):\n",
    "        start = time.time()\n",
    "        tempAdd = np.array(list(listOfFterms[i]))\n",
    "        tempAdd2 = np.array(list(listOfFterms[i+1]))\n",
    "        temp = multiplyTrops(tempAdd, tempAdd2)\n",
    "\n",
    "        # There may be an odd number of terms - in that case, wrap the last in with the previous 2\n",
    "        #if len(listOfFterms) - 1 <= i+2:\n",
    "        #    tempAdd3 = np.array(list(listOfFterms[i+2]))\n",
    "        #    temp = multiplyTrops(temp, tempAdd3)\n",
    "\n",
    "        goodIndices = getUsedIndices(temp)\n",
    "        newFterms2.append(temp[list(goodIndices), :])\n",
    "        goodIndicesFull2.append(goodIndices)\n",
    "        print('{} * {} = {} -> {} taking {} seconds'.format(tempAdd.shape[0], tempAdd2.shape[0], tempAdd.shape[0]*tempAdd2.shape[0], len(goodIndices), time.time() - start))\n",
    "    if len(listOfFterms) % 2 == 1:\n",
    "        newFterms2.append(np.array(list(listOfFterms[-1])))\n",
    "        goodIndicesFull2.append(np.array(list(range(np.array(list(listOfFterms[-1])).shape[0]))))\n",
    "    return newFterms2, goodIndicesFull2"
   ]
  },
  {
   "cell_type": "code",
   "execution_count": 21,
   "metadata": {
    "collapsed": true
   },
   "outputs": [],
   "source": [
    "def reshuffleTerms(inputTerms):\n",
    "    terms = sorted(inputTerms, key=len)\n",
    "    if len(terms) % 2 == 1:\n",
    "        toEnd = [terms[-1]]\n",
    "        terms = terms[:-1]\n",
    "    else:\n",
    "        toEnd = []\n",
    "    test = []\n",
    "    for i in range(len(terms)//2):\n",
    "        test.append(terms[i])\n",
    "        test.append(terms[-i-1])\n",
    "    test = test + toEnd\n",
    "    return test"
   ]
  },
  {
   "cell_type": "code",
   "execution_count": 22,
   "metadata": {},
   "outputs": [
    {
     "name": "stdout",
     "output_type": "stream",
     "text": [
      "4 * 64 = 256 -> 253 taking 7.284416675567627 seconds\n",
      "8 * 32 = 256 -> 255 taking 7.740442991256714 seconds\n",
      "8 * 32 = 256 -> 241 taking 7.55243182182312 seconds\n",
      "16 * 32 = 512 -> 462 taking 8.861506938934326 seconds\n",
      "16 * 32 = 512 -> 423 taking 8.389479875564575 seconds\n",
      "16 * 16 = 256 -> 250 taking 7.7064409255981445 seconds\n",
      "[253, 255, 241, 462, 423, 250, 128]\n",
      "[253, 255, 241, 462, 423, 250, 128]\n",
      "47.565720558166504\n"
     ]
    }
   ],
   "source": [
    "start = time.time()\n",
    "newFterms2, goodIndicesFull2  = addAndConvexHull(reshuffleTerms(Ftermsfull))\n",
    "    \n",
    "print([val.shape[0] for val in newFterms2])\n",
    "print([len(val) for val in goodIndicesFull2])\n",
    "\n",
    "print(time.time() - start)"
   ]
  },
  {
   "cell_type": "code",
   "execution_count": 23,
   "metadata": {},
   "outputs": [
    {
     "name": "stdout",
     "output_type": "stream",
     "text": [
      "128 * 423 = 54144 -> 6517 taking 292.6707401275635 seconds\n",
      "241 * 255 = 61455 -> 8282 taking 308.7026569843292 seconds\n",
      "250 * 253 = 63250 -> 7156 taking 315.75306010246277 seconds\n",
      "[6517, 8282, 7156, 462]\n",
      "[6517, 8282, 7156, 462]\n",
      "917.2004611492157\n"
     ]
    }
   ],
   "source": [
    "start = time.time()\n",
    "\n",
    "newFterms2, goodIndicesFull2  = addAndConvexHull(reshuffleTerms(newFterms2))\n",
    "\n",
    "print([val.shape[0] for val in newFterms2])\n",
    "print([len(val) for val in goodIndicesFull2])\n",
    "\n",
    "print(time.time() - start)"
   ]
  },
  {
   "cell_type": "code",
   "execution_count": null,
   "metadata": {
    "collapsed": true
   },
   "outputs": [],
   "source": [
    "15# Slow and large memory footrpint\n",
    "\n",
    "start = time.time()\n",
    "newFterms2, goodIndicesFull2  = addAndConvexHull(reshuffleTerms(newFterms2))\n",
    "\n",
    "print([val.shape[0] for val in newFterms2])\n",
    "print([len(val) for val in goodIndicesFull2])\n",
    "\n",
    "print(time.time() - start)"
   ]
  },
  {
   "cell_type": "code",
   "execution_count": 24,
   "metadata": {},
   "outputs": [
    {
     "name": "stdout",
     "output_type": "stream",
     "text": [
      "8 * 128 = 1024 -> 664 taking 9.688554048538208 seconds\n",
      "16 * 128 = 2048 -> 1078 taking 14.561833143234253 seconds\n",
      "16 * 64 = 1024 -> 718 taking 9.591548442840576 seconds\n",
      "32 * 64 = 2048 -> 1190 taking 14.191811800003052 seconds\n",
      "32 * 64 = 2048 -> 1550 taking 14.375822305679321 seconds\n",
      "32 * 32 = 1024 -> 756 taking 9.64955186843872 seconds\n",
      "[664, 1078, 718, 1190, 1550, 756, 256]\n",
      "[664, 1078, 718, 1190, 1550, 756, 256]\n",
      "72.11312460899353\n"
     ]
    }
   ],
   "source": [
    "start = time.time()\n",
    "newGterms2, goodIndicesFullG2  = addAndConvexHull(reshuffleTerms(Gtermsfull))\n",
    "    \n",
    "print([val.shape[0] for val in newGterms2])\n",
    "print([len(val) for val in goodIndicesFullG2])\n",
    "\n",
    "print(time.time() - start)"
   ]
  },
  {
   "cell_type": "code",
   "execution_count": 25,
   "metadata": {},
   "outputs": [
    {
     "name": "stdout",
     "output_type": "stream",
     "text": [
      "256 * 1190 = 304640 -> 10942 taking 1963.8253242969513 seconds\n",
      "664 * 1078 = 715792 -> 12301 taking 8346.098369598389 seconds\n",
      "718 * 756 = 542808 -> 12328 taking 3134.967309951782 seconds\n",
      "[10942, 12301, 12328, 1550]\n",
      "[10942, 12301, 12328, 1550]\n",
      "13445.48303771019\n"
     ]
    }
   ],
   "source": [
    "start = time.time()\n",
    "\n",
    "newGterms2, goodIndicesFullG2  = addAndConvexHull(reshuffleTerms(newGterms2))\n",
    "\n",
    "print([val.shape[0] for val in newGterms2])\n",
    "print([len(val) for val in goodIndicesFullG2])\n",
    "\n",
    "print(time.time() - start)"
   ]
  },
  {
   "cell_type": "code",
   "execution_count": null,
   "metadata": {
    "collapsed": true
   },
   "outputs": [],
   "source": [
    "# Slow and large memory footrpint\n",
    "\n",
    "start = time.time()\n",
    "\n",
    "newGterms2, goodIndicesFullG2  = addAndConvexHull(reshuffleTerms(newGterms2))\n",
    "\n",
    "print([val.shape[0] for val in newGterms2])\n",
    "print([len(val) for val in goodIndicesFullG2])\n",
    "\n",
    "print(time.time() - start)"
   ]
  },
  {
   "cell_type": "code",
   "execution_count": 15,
   "metadata": {
    "collapsed": true
   },
   "outputs": [],
   "source": []
  },
  {
   "cell_type": "code",
   "execution_count": 13,
   "metadata": {
    "code_folding": [
     0
    ]
   },
   "outputs": [
    {
     "data": {
      "text/html": [
       "<table>\n",
       "<tbody>\n",
       "<tr><td>MNIST       </td><td>F    </td><td>G    </td><td>full net</td><td>Samples</td></tr>\n",
       "<tr><td>Train       </td><td>55726</td><td>57063</td><td>59911   </td><td>60000  </td></tr>\n",
       "<tr><td>Test        </td><td>9722 </td><td>9824 </td><td>9997    </td><td>10000  </td></tr>\n",
       "<tr><td>Test - train</td><td>8866 </td><td>9122 </td><td>9967    </td><td>-      </td></tr>\n",
       "<tr><td>Test ∪ train</td><td>64592</td><td>66185</td><td>69878   </td><td>70000  </td></tr>\n",
       "</tbody>\n",
       "</table>"
      ],
      "text/plain": [
       "<IPython.core.display.HTML object>"
      ]
     },
     "metadata": {},
     "output_type": "display_data"
    }
   ],
   "source": [
    "# MNIST\n",
    "train_loader = torch.utils.data.DataLoader(\n",
    "  torchvision.datasets.MNIST('files/', train=True, download=True,\n",
    "                             transform=torchvision.transforms.Compose([\n",
    "                               torchvision.transforms.ToTensor(),\n",
    "                               torchvision.transforms.Normalize(\n",
    "                                 (0.1307,), (0.3081,))\n",
    "                             ])),\n",
    "  batch_size=1000, shuffle=True)\n",
    "\n",
    "test_loader = torch.utils.data.DataLoader(\n",
    "  torchvision.datasets.MNIST('files/', train=False, download=True,\n",
    "                             transform=torchvision.transforms.Compose([\n",
    "                               torchvision.transforms.ToTensor(),\n",
    "                               torchvision.transforms.Normalize(\n",
    "                                 (0.1307,), (0.3081,))\n",
    "                             ])),\n",
    "  batch_size=1000, shuffle=True)\n",
    "\n",
    "countF = set()\n",
    "countG = set()\n",
    "countT = set()\n",
    "j = 0\n",
    "\n",
    "for data, target in train_loader:\n",
    "    train_data = data.view(-1, 28*28).numpy()\n",
    "    #train_data = np.hstack((train_data, np.ones((train_data.shape[0], 1))))\n",
    "\n",
    "    resF = np.matmul(A1[A2.reshape(-1) > 0, :], train_data.T).T + b1[A2.reshape(-1) > 0]\n",
    "    resF = resF > 0\n",
    "    resG = np.matmul(A1[A2.reshape(-1) < 0, :], train_data.T).T + b1[A2.reshape(-1) < 0]\n",
    "    resG = resG > 0\n",
    "    resT = np.matmul(A1, train_data.T).T + b1\n",
    "    resT = resT > 0\n",
    "    \n",
    "    for i in range(resF.shape[0]):\n",
    "        countF.add(tuple(resF[i, :]))\n",
    "        countG.add(tuple(resG[i, :]))\n",
    "        countT.add(tuple(resT[i, :]))\n",
    "        j+=1\n",
    "        \n",
    "    #print(j, len(countF), len(countG), len(countT))\n",
    "\n",
    "countFTest = set()\n",
    "countGTest = set()\n",
    "countTTest = set()\n",
    "k = 0\n",
    "for data, target in test_loader:\n",
    "    train_data = data.view(-1, 28*28).numpy()\n",
    "    #train_data = np.hstack((train_data, np.ones((train_data.shape[0], 1))))\n",
    "\n",
    "    resF = np.matmul(A1[A2.reshape(-1) > 0, :], train_data.T).T + b1[A2.reshape(-1) > 0]\n",
    "    resF = resF > 0\n",
    "    resG = np.matmul(A1[A2.reshape(-1) < 0, :], train_data.T).T + b1[A2.reshape(-1) < 0]\n",
    "    resG = resG > 0\n",
    "    resT = np.matmul(A1, train_data.T).T + b1\n",
    "    resT = resT > 0\n",
    "    \n",
    "    for i in range(resF.shape[0]):\n",
    "        countFTest.add(tuple(resF[i, :]))\n",
    "        countGTest.add(tuple(resG[i, :]))\n",
    "        countTTest.add(tuple(resT[i, :]))\n",
    "        k+=1\n",
    "        \n",
    "    #print(j, len(countFTest), len(countGTest), len(countTTest))\n",
    "    \n",
    "# print('MNIST all')\n",
    "# print('total samples')\n",
    "# print('train =', j, 'test =', k, 'total =', j+k)\n",
    "# print('train')\n",
    "# print(len(countF), len(countG), len(countT))\n",
    "# print('test')\n",
    "# print(len(countFTest), len(countGTest), len(countTTest))\n",
    "# print('test - train')\n",
    "# print(len(countFTest - countF), len(countGTest - countG), len(countTTest - countT))\n",
    "# print('test union train')\n",
    "# print(len(countFTest.union(countF)), len(countGTest.union(countG)), len(countGTest.union(countG)))\n",
    "\n",
    "table = [['MNIST', 'F', 'G', 'full net', 'Samples'],\n",
    "         ['Train', len(countF), len(countG), len(countT), j],\n",
    "         ['Test', len(countFTest), len(countGTest), len(countTTest), k],\n",
    "         ['Test - train', len(countFTest - countF), len(countGTest - countG), len(countTTest - countT), '-'],\n",
    "         ['Test ∪ train', len(countFTest.union(countF)), len(countGTest.union(countG)), len(countTTest.union(countT)), j+k]]\n",
    "display(HTML(tabulate.tabulate(table, tablefmt='html')))"
   ]
  },
  {
   "cell_type": "code",
   "execution_count": 16,
   "metadata": {
    "code_folding": [
     0
    ],
    "scrolled": true
   },
   "outputs": [
    {
     "data": {
      "text/html": [
       "<table>\n",
       "<tbody>\n",
       "<tr><td>EMNIST digits</td><td>F     </td><td>G     </td><td>full net</td><td>Samples</td></tr>\n",
       "<tr><td>Train        </td><td>207393</td><td>220584</td><td>238222  </td><td>240000 </td></tr>\n",
       "<tr><td>Test         </td><td>37624 </td><td>38619 </td><td>39929   </td><td>40000  </td></tr>\n",
       "<tr><td>Test - train </td><td>32194 </td><td>35168 </td><td>39485   </td><td>-      </td></tr>\n",
       "<tr><td>Test ∪ train </td><td>239587</td><td>255752</td><td>277707  </td><td>280000 </td></tr>\n",
       "</tbody>\n",
       "</table>"
      ],
      "text/plain": [
       "<IPython.core.display.HTML object>"
      ]
     },
     "metadata": {},
     "output_type": "display_data"
    }
   ],
   "source": [
    "# EMNIST digits\n",
    "train_loader = torch.utils.data.DataLoader(\n",
    "  torchvision.datasets.EMNIST('files/', 'digits', train=True, download=True,\n",
    "                             transform=torchvision.transforms.Compose([\n",
    "                               torchvision.transforms.ToTensor(),\n",
    "                               torchvision.transforms.Normalize(\n",
    "                                 (0.1307,), (0.3081,))\n",
    "                             ])),\n",
    "  batch_size=1000, shuffle=True)\n",
    "\n",
    "test_loader = torch.utils.data.DataLoader(\n",
    "  torchvision.datasets.EMNIST('files/', 'digits', train=False, download=True,\n",
    "                             transform=torchvision.transforms.Compose([\n",
    "                               torchvision.transforms.ToTensor(),\n",
    "                               torchvision.transforms.Normalize(\n",
    "                                 (0.1307,), (0.3081,))\n",
    "                             ])),\n",
    "  batch_size=1000, shuffle=True)\n",
    "\n",
    "countF = set()\n",
    "countG = set()\n",
    "countT = set()\n",
    "j = 0\n",
    "\n",
    "for data, target in train_loader:\n",
    "    train_data = data.view(-1, 28*28).numpy()\n",
    "    #train_data = np.hstack((train_data, np.ones((train_data.shape[0], 1))))\n",
    "\n",
    "    resF = np.matmul(A1[A2.reshape(-1) > 0, :], train_data.T).T + b1[A2.reshape(-1) > 0]\n",
    "    resF = resF > 0\n",
    "    resG = np.matmul(A1[A2.reshape(-1) < 0, :], train_data.T).T + b1[A2.reshape(-1) < 0]\n",
    "    resG = resG > 0\n",
    "    resT = np.matmul(A1, train_data.T).T + b1\n",
    "    resT = resT > 0\n",
    "    \n",
    "    for i in range(resF.shape[0]):\n",
    "        countF.add(tuple(resF[i, :]))\n",
    "        countG.add(tuple(resG[i, :]))\n",
    "        countT.add(tuple(resT[i, :]))\n",
    "        j+=1\n",
    "        \n",
    "    #print(j, len(countF), len(countG), len(countT))\n",
    "\n",
    "countFTest = set()\n",
    "countGTest = set()\n",
    "countTTest = set()\n",
    "k = 0\n",
    "for data, target in test_loader:\n",
    "    train_data = data.view(-1, 28*28).numpy()\n",
    "    #train_data = np.hstack((train_data, np.ones((train_data.shape[0], 1))))\n",
    "\n",
    "    resF = np.matmul(A1[A2.reshape(-1) > 0, :], train_data.T).T + b1[A2.reshape(-1) > 0]\n",
    "    resF = resF > 0\n",
    "    resG = np.matmul(A1[A2.reshape(-1) < 0, :], train_data.T).T + b1[A2.reshape(-1) < 0]\n",
    "    resG = resG > 0\n",
    "    resT = np.matmul(A1, train_data.T).T + b1\n",
    "    resT = resT > 0\n",
    "    \n",
    "    for i in range(resF.shape[0]):\n",
    "        countFTest.add(tuple(resF[i, :]))\n",
    "        countGTest.add(tuple(resG[i, :]))\n",
    "        countTTest.add(tuple(resT[i, :]))\n",
    "        k+=1\n",
    "        \n",
    "    #print(j, len(countFTest), len(countGTest), len(countTTest))\n",
    "    \n",
    "# print('EMNIST digits')\n",
    "# print('total samples')\n",
    "# print('train =', j, 'test =', k, 'total =', j+k)\n",
    "# print('train')\n",
    "# print(len(countF), len(countG), len(countT))\n",
    "# print('test')\n",
    "# print(len(countFTest), len(countGTest), len(countTTest))\n",
    "# print('test - train')\n",
    "# print(len(countFTest - countF), len(countGTest - countG), len(countTTest - countT))\n",
    "# print('test union train')\n",
    "# print(len(countFTest.union(countF)), len(countGTest.union(countG)), len(countGTest.union(countG)))\n",
    "\n",
    "table = [['EMNIST digits', 'F', 'G', 'full net', 'Samples'],\n",
    "         ['Train', len(countF), len(countG), len(countT), j],\n",
    "         ['Test', len(countFTest), len(countGTest), len(countTTest), k],\n",
    "         ['Test - train', len(countFTest - countF), len(countGTest - countG), len(countTTest - countT), '-'],\n",
    "         ['Test ∪ train', len(countFTest.union(countF)), len(countGTest.union(countG)), len(countTTest.union(countT)), j+k]]\n",
    "display(HTML(tabulate.tabulate(table, tablefmt='html')))"
   ]
  },
  {
   "cell_type": "code",
   "execution_count": 15,
   "metadata": {
    "code_folding": [
     0
    ]
   },
   "outputs": [
    {
     "data": {
      "text/html": [
       "<table>\n",
       "<tbody>\n",
       "<tr><td>EMNIST all  </td><td>F     </td><td>G     </td><td>full net</td><td>Samples</td></tr>\n",
       "<tr><td>Train       </td><td>593786</td><td>630656</td><td>690066  </td><td>697932 </td></tr>\n",
       "<tr><td>Test        </td><td>107791</td><td>110862</td><td>115910  </td><td>116323 </td></tr>\n",
       "<tr><td>Test - train</td><td>92212 </td><td>100526</td><td>114149  </td><td>-      </td></tr>\n",
       "<tr><td>Test ∪ train</td><td>685998</td><td>731182</td><td>804215  </td><td>814255 </td></tr>\n",
       "</tbody>\n",
       "</table>"
      ],
      "text/plain": [
       "<IPython.core.display.HTML object>"
      ]
     },
     "metadata": {},
     "output_type": "display_data"
    }
   ],
   "source": [
    "# EMNIST digits and characters\n",
    "train_loader = torch.utils.data.DataLoader(\n",
    "  torchvision.datasets.EMNIST('files/', 'byclass', train=True, download=True,\n",
    "                             transform=torchvision.transforms.Compose([\n",
    "                               torchvision.transforms.ToTensor(),\n",
    "                               torchvision.transforms.Normalize(\n",
    "                                 (0.1307,), (0.3081,))\n",
    "                             ])),\n",
    "  batch_size=1000, shuffle=True)\n",
    "\n",
    "test_loader = torch.utils.data.DataLoader(\n",
    "  torchvision.datasets.EMNIST('files/', 'byclass', train=False, download=True,\n",
    "                             transform=torchvision.transforms.Compose([\n",
    "                               torchvision.transforms.ToTensor(),\n",
    "                               torchvision.transforms.Normalize(\n",
    "                                 (0.1307,), (0.3081,))\n",
    "                             ])),\n",
    "  batch_size=1000, shuffle=True)\n",
    "\n",
    "countF = set()\n",
    "countG = set()\n",
    "countT = set()\n",
    "j = 0\n",
    "\n",
    "for data, target in train_loader:\n",
    "    train_data = data.view(-1, 28*28).numpy()\n",
    "    #train_data = np.hstack((train_data, np.ones((train_data.shape[0], 1))))\n",
    "\n",
    "    resF = np.matmul(A1[A2.reshape(-1) > 0, :], train_data.T).T + b1[A2.reshape(-1) > 0]\n",
    "    resF = resF > 0\n",
    "    resG = np.matmul(A1[A2.reshape(-1) < 0, :], train_data.T).T + b1[A2.reshape(-1) < 0]\n",
    "    resG = resG > 0\n",
    "    resT = np.matmul(A1, train_data.T).T + b1\n",
    "    resT = resT > 0\n",
    "    \n",
    "    for i in range(resF.shape[0]):\n",
    "        countF.add(tuple(resF[i, :]))\n",
    "        countG.add(tuple(resG[i, :]))\n",
    "        countT.add(tuple(resT[i, :]))\n",
    "        j+=1\n",
    "        \n",
    "    #print(j, len(countF), len(countG), len(countT))\n",
    "\n",
    "countFTest = set()\n",
    "countGTest = set()\n",
    "countTTest = set()\n",
    "k = 0\n",
    "for data, target in test_loader:\n",
    "    train_data = data.view(-1, 28*28).numpy()\n",
    "    #train_data = np.hstack((train_data, np.ones((train_data.shape[0], 1))))\n",
    "\n",
    "    resF = np.matmul(A1[A2.reshape(-1) > 0, :], train_data.T).T + b1[A2.reshape(-1) > 0]\n",
    "    resF = resF > 0\n",
    "    resG = np.matmul(A1[A2.reshape(-1) < 0, :], train_data.T).T + b1[A2.reshape(-1) < 0]\n",
    "    resG = resG > 0\n",
    "    resT = np.matmul(A1, train_data.T).T + b1\n",
    "    resT = resT > 0\n",
    "    \n",
    "    for i in range(resF.shape[0]):\n",
    "        countFTest.add(tuple(resF[i, :]))\n",
    "        countGTest.add(tuple(resG[i, :]))\n",
    "        countTTest.add(tuple(resT[i, :]))\n",
    "        k+=1\n",
    "        \n",
    "    #print(j, len(countFTest), len(countGTest), len(countTTest))\n",
    "    \n",
    "# print('EMNIST all')\n",
    "# print('total samples')\n",
    "# print('train =', j, 'test =', k, 'total =', j+k)\n",
    "# print('train')\n",
    "# print(len(countF), len(countG), len(countT))\n",
    "# print('test')\n",
    "# print(len(countFTest), len(countGTest), len(countTTest))\n",
    "# print('test - train')\n",
    "# print(len(countFTest - countF), len(countGTest - countG), len(countTTest - countT))\n",
    "# print('test union train')\n",
    "# print(len(countFTest.union(countF)), len(countGTest.union(countG)), len(countGTest.union(countG)))\n",
    "\n",
    "table = [['EMNIST all', 'F', 'G', 'full net', 'Samples'],\n",
    "         ['Train', len(countF), len(countG), len(countT), j],\n",
    "         ['Test', len(countFTest), len(countGTest), len(countTTest), k],\n",
    "         ['Test - train', len(countFTest - countF), len(countGTest - countG), len(countTTest - countT), '-'],\n",
    "         ['Test ∪ train', len(countFTest.union(countF)), len(countGTest.union(countG)), len(countTTest.union(countT)), j+k]]\n",
    "display(HTML(tabulate.tabulate(table, tablefmt='html')))"
   ]
  },
  {
   "cell_type": "code",
   "execution_count": 13,
   "metadata": {
    "code_folding": [
     0
    ]
   },
   "outputs": [
    {
     "name": "stdout",
     "output_type": "stream",
     "text": [
      "time =  302.196284532547\n"
     ]
    },
    {
     "data": {
      "text/html": [
       "<table>\n",
       "<tbody>\n",
       "<tr><td>Random</td><td>F      </td><td>G      </td><td>full net</td><td>samples </td></tr>\n",
       "<tr><td>      </td><td>2820669</td><td>6822806</td><td>9999514 </td><td>10000000</td></tr>\n",
       "</tbody>\n",
       "</table>"
      ],
      "text/plain": [
       "<IPython.core.display.HTML object>"
      ]
     },
     "metadata": {},
     "output_type": "display_data"
    },
    {
     "data": {
      "text/plain": [
       "[<matplotlib.lines.Line2D at 0x749c5c88>]"
      ]
     },
     "execution_count": 13,
     "metadata": {},
     "output_type": "execute_result"
    },
    {
     "data": {
      "image/png": "[encoded data removed]",
      "text/plain": [
       "<Figure size 720x720 with 4 Axes>"
      ]
     },
     "metadata": {
      "needs_background": "light"
     },
     "output_type": "display_data"
    }
   ],
   "source": [
    "# Random samples\n",
    "countF = set()\n",
    "countG = set()\n",
    "countT = set()\n",
    "j = 0\n",
    "start = time.time()\n",
    "\n",
    "valsF = []\n",
    "valsG = []\n",
    "valsT = []\n",
    "iters = []\n",
    "\n",
    "for sample in range(10000):\n",
    "    train_data = (np.random.uniform(0, 1, (1000, 28*28)) - 0.1307)/0.3081\n",
    "    #train_data = np.hstack((train_data, np.ones((train_data.shape[0], 1))))\n",
    "\n",
    "    resF = np.matmul(A1[A2.reshape(-1) > 0, :], train_data.T).T + b1[A2.reshape(-1) > 0]\n",
    "    resF = resF > 0\n",
    "    resG = np.matmul(A1[A2.reshape(-1) < 0, :], train_data.T).T + b1[A2.reshape(-1) < 0]\n",
    "    resG = resG > 0\n",
    "    resT = np.matmul(A1, train_data.T).T + b1\n",
    "    resT = resT > 0\n",
    "    \n",
    "    for i in range(resF.shape[0]):\n",
    "        countF.add(np.packbits(resF[i, :]).tostring())\n",
    "        countG.add(np.packbits(resG[i, :]).tostring())\n",
    "        countT.add(np.packbits(resT[i, :]).tostring())\n",
    "        j+=1\n",
    "        \n",
    "    valsF.append(len(countF))\n",
    "    valsG.append(len(countG))\n",
    "    valsT.append(len(countT))\n",
    "    iters.append(j)\n",
    "        \n",
    "print('time = ', time.time()-start)\n",
    "# print('total samples')\n",
    "# print(j,)\n",
    "# print('train')\n",
    "# print(len(countF), len(countG), len(countT))\n",
    "\n",
    "table = [['Random', 'F', 'G', 'full net', 'samples'],\n",
    "         ['', len(countF), len(countG), len(countT), j]]\n",
    "display(HTML(tabulate.tabulate(table, tablefmt='html')))\n",
    "\n",
    "fig = plt.figure(figsize=(10,10))\n",
    "axF = fig.add_subplot(221)\n",
    "axG = fig.add_subplot(222)\n",
    "axT = fig.add_subplot(223)\n",
    "axAll = fig.add_subplot(224)\n",
    "\n",
    "axF.plot(iters, valsF)\n",
    "axG.plot(iters, valsG)\n",
    "axT.plot(iters, valsT)\n",
    "\n",
    "axAll.plot(iters, valsF)\n",
    "axAll.plot(iters, valsG)\n",
    "axAll.plot(iters, valsT)"
   ]
  },
  {
   "cell_type": "code",
   "execution_count": 32,
   "metadata": {},
   "outputs": [
    {
     "name": "stdout",
     "output_type": "stream",
     "text": [
      "96\n",
      "1072\n",
      "112\n",
      "161\n",
      "41\n"
     ]
    }
   ],
   "source": [
    "import sys\n",
    "print(sys.getsizeof(resT[i, :]))\n",
    "print(sys.getsizeof(tuple(resT[i, :])))\n",
    "print(sys.getsizeof(np.packbits(resT[i, :])))\n",
    "print(sys.getsizeof(resT[i, :].tostring()))\n",
    "print(sys.getsizeof(np.packbits(resF[i, :]).tostring()))"
   ]
  },
  {
   "cell_type": "code",
   "execution_count": 13,
   "metadata": {
    "code_folding": [
     0
    ]
   },
   "outputs": [
    {
     "name": "stdout",
     "output_type": "stream",
     "text": [
      "time =  5316.909109830856\n"
     ]
    },
    {
     "data": {
      "text/html": [
       "<table>\n",
       "<tbody>\n",
       "<tr><td>Random</td><td>F       </td><td>G       </td><td>full net</td><td>samples  </td></tr>\n",
       "<tr><td>      </td><td>12348200</td><td>43147001</td><td>99950187</td><td>100000000</td></tr>\n",
       "</tbody>\n",
       "</table>"
      ],
      "text/plain": [
       "<IPython.core.display.HTML object>"
      ]
     },
     "metadata": {},
     "output_type": "display_data"
    },
    {
     "data": {
      "text/plain": [
       "[<matplotlib.lines.Line2D at 0x17ce67898>]"
      ]
     },
     "execution_count": 13,
     "metadata": {},
     "output_type": "execute_result"
    },
    {
     "data": {
      "image/png": "[encoded data removed]",
      "text/plain": [
       "<Figure size 720x720 with 4 Axes>"
      ]
     },
     "metadata": {
      "needs_background": "light"
     },
     "output_type": "display_data"
    }
   ],
   "source": [
    "# Random samples\n",
    "countF = set()\n",
    "countG = set()\n",
    "countT = set()\n",
    "j = 0\n",
    "start = time.time()\n",
    "\n",
    "valsF = []\n",
    "valsG = []\n",
    "valsT = []\n",
    "iters = []\n",
    "\n",
    "for sample in range(100000):\n",
    "    train_data = (np.random.uniform(0, 1, (1000, 28*28)) - 0.1307)/0.3081\n",
    "    #train_data = np.hstack((train_data, np.ones((train_data.shape[0], 1))))\n",
    "\n",
    "    resF = np.matmul(A1[A2.reshape(-1) > 0, :], train_data.T).T + b1[A2.reshape(-1) > 0]\n",
    "    resF = resF > 0\n",
    "    resG = np.matmul(A1[A2.reshape(-1) < 0, :], train_data.T).T + b1[A2.reshape(-1) < 0]\n",
    "    resG = resG > 0\n",
    "    resT = np.matmul(A1, train_data.T).T + b1\n",
    "    resT = resT > 0\n",
    "    \n",
    "    for i in range(resF.shape[0]):\n",
    "        countF.add(np.packbits(resF[i, :]).tostring())\n",
    "        countG.add(np.packbits(resG[i, :]).tostring())\n",
    "        countT.add(np.packbits(resT[i, :]).tostring())\n",
    "        j+=1\n",
    "        \n",
    "    valsF.append(len(countF))\n",
    "    valsG.append(len(countG))\n",
    "    valsT.append(len(countT))\n",
    "    iters.append(j)\n",
    "        \n",
    "print('time = ', time.time()-start)\n",
    "# print('total samples')\n",
    "# print(j,)\n",
    "# print('train')\n",
    "# print(len(countF), len(countG), len(countT))\n",
    "\n",
    "table = [['Random', 'F', 'G', 'full net', 'samples'],\n",
    "         ['', len(countF), len(countG), len(countT), j]]\n",
    "display(HTML(tabulate.tabulate(table, tablefmt='html')))\n",
    "\n",
    "fig = plt.figure(figsize=(10,10))\n",
    "axF = fig.add_subplot(221)\n",
    "axG = fig.add_subplot(222)\n",
    "axT = fig.add_subplot(223)\n",
    "axAll = fig.add_subplot(224)\n",
    "\n",
    "axF.plot(iters, valsF)\n",
    "axG.plot(iters, valsG)\n",
    "axT.plot(iters, valsT)\n",
    "\n",
    "axAll.plot(iters, valsF)\n",
    "axAll.plot(iters, valsG)\n",
    "axAll.plot(iters, valsT)"
   ]
  },
  {
   "cell_type": "code",
   "execution_count": null,
   "metadata": {
    "collapsed": true
   },
   "outputs": [],
   "source": []
  },
  {
   "cell_type": "code",
   "execution_count": null,
   "metadata": {
    "collapsed": true
   },
   "outputs": [],
   "source": []
  }
 ],
 "metadata": {
  "kernelspec": {
   "display_name": "Python 3",
   "language": "python",
   "name": "python3"
  },
  "language_info": {
   "codemirror_mode": {
    "name": "ipython",
    "version": 3
   },
   "file_extension": ".py",
   "mimetype": "text/x-python",
   "name": "python",
   "nbconvert_exporter": "python",
   "pygments_lexer": "ipython3",
   "version": "3.6.1"
  },
  "latex_envs": {
   "LaTeX_envs_menu_present": true,
   "autoclose": false,
   "autocomplete": true,
   "bibliofile": "biblio.bib",
   "cite_by": "apalike",
   "current_citInitial": 1,
   "eqLabelWithNumbers": true,
   "eqNumInitial": 1,
   "hotkeys": {
    "equation": "Ctrl-E",
    "itemize": "Ctrl-I"
   },
   "labels_anchors": false,
   "latex_user_defs": false,
   "report_style_numbering": false,
   "user_envs_cfg": false
  }
 },
 "nbformat": 4,
 "nbformat_minor": 2
}
