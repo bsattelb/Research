{
 "cells": [
  {
   "cell_type": "code",
   "execution_count": 2,
   "metadata": {
    "code_folding": [
     0
    ],
    "collapsed": true
   },
   "outputs": [],
   "source": [
    "# Imports\n",
    "import numpy as np\n",
    "import itertools\n",
    "from IPython.display import display, Markdown, Latex, Math\n",
    "\n",
    "%matplotlib notebook\n",
    "\n",
    "import matplotlib\n",
    "import matplotlib.pyplot as plt\n",
    "from mpl_toolkits.mplot3d import Axes3D\n",
    "\n",
    "from matplotlib.patches import Circle, Wedge\n",
    "from matplotlib.collections import PatchCollection\n",
    "\n",
    "import tropical\n",
    "import data_gen2\n",
    "\n",
    "import itertools\n",
    "\n",
    "import time\n",
    "\n",
    "from scipy.spatial import ConvexHull, Delaunay\n",
    "from scipy.spatial.qhull import QhullError\n",
    "\n",
    "from scipy.optimize import linprog"
   ]
  },
  {
   "cell_type": "code",
   "execution_count": 3,
   "metadata": {
    "code_folding": [
     0
    ],
    "collapsed": true
   },
   "outputs": [],
   "source": [
    "def evaluate_trop(polynomial, data):\n",
    "\n",
    "    temp = np.ones((data.shape[0], 1))\n",
    "    test = np.concatenate((data, temp), axis=1)\n",
    "    \n",
    "    Fresult = np.matmul(polynomial, test.T)\n",
    "    Fmax = np.amax(Fresult, axis=0)\n",
    "    Flocs = np.argmax(Fresult, axis=0)\n",
    "    \n",
    "    return Fmax, Flocs"
   ]
  },
  {
   "cell_type": "code",
   "execution_count": 7,
   "metadata": {
    "code_folding": [],
    "collapsed": true
   },
   "outputs": [],
   "source": [
    "# Hyperparameters\n",
    "\n",
    "# Starting F and G polynomials\n",
    "\n",
    "nTerms = 2\n",
    "\n",
    "F1 = np.random.uniform(low=-1, high=1, size=(nTerms, 3))\n",
    "G1 = np.random.uniform(low=-1, high=1, size=(nTerms, 3))\n",
    "\n",
    "\n",
    "structure = 'xor'\n",
    "\n",
    "if structure == 'circles':\n",
    "    num_samples = 4\n",
    "    \n",
    "    r1 = 0.5 # Radius of inner circle\n",
    "    data_func = lambda n: data_gen2.circles(n, r1)\n",
    "elif structure == 'xor':\n",
    "    num_samples = 2\n",
    "    \n",
    "    r1 = 0.25\n",
    "    data_func = lambda n: data_gen2.harderXor(n, r1=r1, alpha=np.sqrt(2)-1)"
   ]
  },
  {
   "cell_type": "code",
   "execution_count": 27,
   "metadata": {},
   "outputs": [
    {
     "name": "stdout",
     "output_type": "stream",
     "text": [
      "[[ 1.          0.         -1.          0.          0.15266849  0.69987286\n",
      "   1.          0.          0.          0.        ]\n",
      " [ 1.          0.         -1.          0.          0.          0.          0.\n",
      "   0.15266849  0.69987286  1.        ]\n",
      " [ 0.          1.          0.         -1.         -0.56817213 -0.43039088\n",
      "   1.          0.          0.          0.        ]\n",
      " [ 0.          1.          0.         -1.          0.          0.          0.\n",
      "  -0.56817213 -0.43039088  1.        ]]\n",
      "[-1.06323732 -1.06323732  1.8543687   1.8543687 ]\n",
      "[ 1.  1. -1. -1.  0.  0.  0.  0.  0.  0.]\n",
      "[(0, None), (0, None), (0, None), (0, None), (0, None), (0, None), (0, None), (0, None), (0, None), (0, None)]\n",
      "Optimization failed. The problem appears to be unbounded.\n"
     ]
    }
   ],
   "source": [
    "# vars = [epsilon, z_i, w_1, b_1, w_2, b_2, ...]\n",
    "\n",
    "data, _, _ = data_func(num_samples)\n",
    "x = data[:, 0:2]\n",
    "y = data[:, -1]\n",
    "\n",
    "nVars = num_samples*2 + nTerms*3\n",
    "nRows = num_samples*nTerms\n",
    "\n",
    "c = np.zeros((nVars))\n",
    "c[:num_samples] = 1\n",
    "c[num_samples:2*num_samples] = -1\n",
    "\n",
    "A_ub = np.zeros((nRows, nVars))\n",
    "b_ub = np.zeros((nRows))\n",
    "Gresult, _ = evaluate_trop(G1, x)\n",
    "\n",
    "for i in range(num_samples):\n",
    "    temp = np.zeros((nTerms, nVars))\n",
    "    temp[:, i] = 1\n",
    "    temp[:, num_samples + i] = -1\n",
    "    for j in range(nTerms):\n",
    "        temp[j, 2*num_samples + j*3] = x[i, 0]\n",
    "        temp[j, 2*num_samples + j*3+1] = x[i, 1]\n",
    "        temp[j, 2*num_samples + j*3+2] = 1\n",
    "    \n",
    "    A_ub[nTerms*i:nTerms*(i+1), :] = temp\n",
    "    b_ub[nTerms*i:nTerms*(i+1)] = y[i] + Gresult[i]\n",
    "\n",
    "\n",
    "bounds = [(0, None) for i in range(nVars)]\n",
    "print(A_ub)\n",
    "print(b_ub)\n",
    "print(c)\n",
    "print(bounds)\n",
    "res = linprog(c=c, A_ub=A_ub, b_ub=b_ub, bounds=bounds)\n",
    "print(res['message'])"
   ]
  },
  {
   "cell_type": "code",
   "execution_count": null,
   "metadata": {
    "collapsed": true
   },
   "outputs": [],
   "source": []
  }
 ],
 "metadata": {
  "kernelspec": {
   "display_name": "Python 3",
   "language": "python",
   "name": "python3"
  },
  "language_info": {
   "codemirror_mode": {
    "name": "ipython",
    "version": 3
   },
   "file_extension": ".py",
   "mimetype": "text/x-python",
   "name": "python",
   "nbconvert_exporter": "python",
   "pygments_lexer": "ipython3",
   "version": "3.6.1"
  },
  "latex_envs": {
   "LaTeX_envs_menu_present": true,
   "autoclose": false,
   "autocomplete": true,
   "bibliofile": "biblio.bib",
   "cite_by": "apalike",
   "current_citInitial": 1,
   "eqLabelWithNumbers": true,
   "eqNumInitial": 1,
   "hotkeys": {
    "equation": "Ctrl-E",
    "itemize": "Ctrl-I"
   },
   "labels_anchors": false,
   "latex_user_defs": false,
   "report_style_numbering": false,
   "user_envs_cfg": false
  }
 },
 "nbformat": 4,
 "nbformat_minor": 2
}
