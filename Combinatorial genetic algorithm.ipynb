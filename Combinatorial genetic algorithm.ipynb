{
 "cells": [
  {
   "cell_type": "code",
   "execution_count": 1,
   "metadata": {
    "code_folding": [
     0
    ],
    "collapsed": true
   },
   "outputs": [],
   "source": [
    "# Imports\n",
    "import numpy as np\n",
    "import itertools\n",
    "from IPython.display import display, Markdown, Latex, Math\n",
    "\n",
    "%matplotlib notebook\n",
    "\n",
    "import matplotlib\n",
    "import matplotlib.pyplot as plt\n",
    "from mpl_toolkits.mplot3d import Axes3D\n",
    "\n",
    "from matplotlib.patches import Circle, Wedge\n",
    "from matplotlib.collections import PatchCollection\n",
    "\n",
    "import tropical\n",
    "import data_gen2\n",
    "\n",
    "import itertools\n",
    "\n",
    "import time\n",
    "\n",
    "from scipy.spatial import ConvexHull, Delaunay\n",
    "from scipy.spatial.qhull import QhullError\n",
    "\n",
    "from scipy.optimize import linprog"
   ]
  },
  {
   "cell_type": "code",
   "execution_count": 2,
   "metadata": {
    "code_folding": [
     0
    ],
    "collapsed": true
   },
   "outputs": [],
   "source": [
    "def evaluate_trop(polynomial, data):\n",
    "\n",
    "    temp = np.ones((data.shape[0], 1))\n",
    "    test = np.concatenate((data, temp), axis=1)\n",
    "    \n",
    "    Fresult = np.matmul(polynomial, test.T)\n",
    "    Fmax = np.amax(Fresult, axis=0)\n",
    "    Flocs = np.argmax(Fresult, axis=0)\n",
    "    \n",
    "    return Fmax, Flocs"
   ]
  },
  {
   "cell_type": "code",
   "execution_count": 18,
   "metadata": {
    "collapsed": true
   },
   "outputs": [],
   "source": [
    "# Get initial F and G populations and the problem\n",
    "\n",
    "nTerms = 10000\n",
    "\n",
    "Fterms = np.random.uniform(low=-10, high=10, size=(nTerms, 3))\n",
    "Gterms = np.random.uniform(low=-10, high=10, size=(nTerms, 3))\n",
    "\n",
    "termsToUse = 20\n",
    "popSize = 20\n",
    "\n",
    "epochs = 5\n",
    "\n",
    "structure = 'xor'\n",
    "\n",
    "if structure == 'circles':\n",
    "    num_samples = 4\n",
    "    \n",
    "    r1 = 0.5 # Radius of inner circle\n",
    "    data_func = lambda n: data_gen2.circles(n, r1)\n",
    "elif structure == 'xor':\n",
    "    num_samples = 2\n",
    "    \n",
    "    r1 = 0.25\n",
    "    data_func = lambda n: data_gen2.harderXor(n, r1=r1, alpha=np.sqrt(2)-1)"
   ]
  },
  {
   "cell_type": "code",
   "execution_count": 19,
   "metadata": {
    "code_folding": [
     0
    ],
    "collapsed": true
   },
   "outputs": [],
   "source": [
    "# Set up validation and plotting sets\n",
    "thing = 101\n",
    "x = np.linspace(-1, 1, thing)\n",
    "y = np.linspace(-1, 1, thing)\n",
    "\n",
    "X, Y = np.meshgrid(x, y)\n",
    "\n",
    "x = np.reshape(X, thing**2)\n",
    "y = np.reshape(Y, thing**2)\n",
    "\n",
    "r1sqr = r1**2\n",
    "r2sqr = 2*r1sqr\n",
    "r3sqr = 3*r1sqr\n",
    "\n",
    "X_test = np.vstack((x, y)).T\n",
    "\n",
    "# Circle\n",
    "if structure == 'circles':\n",
    "    indices = X_test[:, 0]**2 + X_test[:, 1]**2 < r1sqr\n",
    "    X_trainCirc = X_test[indices, :]\n",
    "    y_trainCirc = np.ones((X_trainCirc.shape[0], 1))\n",
    "\n",
    "    indices = np.logical_and(r2sqr < X_test[:, 0]**2 + X_test[:, 1]**2, X_test[:, 0]**2 + X_test[:, 1]**2 < r3sqr)\n",
    "    X_trainCirc2 = X_test[indices, :]\n",
    "    y_trainCirc2 = -np.ones((X_trainCirc2.shape[0], 1))\n",
    "\n",
    "    X_testCirc = np.vstack((X_trainCirc, X_trainCirc2))\n",
    "    y_testCirc = np.vstack((y_trainCirc, y_trainCirc2))\n",
    "elif structure == 'xor':\n",
    "    X_testCircs = []\n",
    "    y_testCircs = []\n",
    "\n",
    "    for loc in [[0.5, 0.5], [-0.5, 0.5], [0.5, -0.5], [-0.5, -0.5]]:\n",
    "        indices = (X_test[:, 0] - loc[0])**2 + (X_test[:, 1] - loc[1])**2 < r1sqr\n",
    "        X_testCircs.append(X_test[indices, :])\n",
    "        if loc[0] == loc[1]:\n",
    "            y_testCircs.append(np.ones((X_testCircs[-1].shape[0], 1)))\n",
    "        else:\n",
    "            y_testCircs.append(-np.ones((X_testCircs[-1].shape[0], 1)))\n",
    "\n",
    "        indices = np.logical_and(r2sqr < (X_test[:, 0] - loc[0])**2 + (X_test[:, 1] - loc[1])**2, (X_test[:, 0] - loc[0])**2 + (X_test[:, 1] - loc[1])**2 < r3sqr)\n",
    "\n",
    "        X_testCircs.append(X_test[indices, :])\n",
    "        if loc[0] == loc[1]:\n",
    "            y_testCircs.append(-np.ones((X_testCircs[-1].shape[0], 1)))\n",
    "        else:\n",
    "            y_testCircs.append(np.ones((X_testCircs[-1].shape[0], 1)))\n",
    "\n",
    "    X_testCirc = np.vstack(X_testCircs)\n",
    "    y_testCirc = np.vstack(y_testCircs)"
   ]
  },
  {
   "cell_type": "code",
   "execution_count": 20,
   "metadata": {
    "collapsed": true
   },
   "outputs": [],
   "source": [
    "# Create evaluation function\n",
    "\n",
    "def eval_func(fGenome, gGenome):\n",
    "    global Fterms\n",
    "    global Gterms\n",
    "    global X_testCirc\n",
    "    global y_testCirc\n",
    "    F, _ = evaluate_trop(Fterms[fGenome, :], X_testCirc)\n",
    "    G, _ = evaluate_trop(Gterms[gGenome, :], X_testCirc)\n",
    "    result = F - G\n",
    "    \n",
    "    return np.sum((result.reshape((-1, 1)) > 0) == (y_testCirc > 0))/(len(y_testCirc)) # Percent correct\n",
    "    #np.mean(np.power(y_testCirc - result.reshape((-1, 1)), 2)) # MSE"
   ]
  },
  {
   "cell_type": "code",
   "execution_count": 24,
   "metadata": {},
   "outputs": [
    {
     "name": "stdout",
     "output_type": "stream",
     "text": [
      "0.528585757272\n"
     ]
    }
   ],
   "source": [
    "initialPopulationF = []\n",
    "initialPopulationG = []\n",
    "for i in range(popSize):\n",
    "    fGenome = np.random.choice(range(nTerms), termsToUse//2)\n",
    "    gGenome = np.random.choice(range(nTerms), termsToUse//2)\n",
    "    \n",
    "    initialPopulationF.append((fGenome, None))\n",
    "    initialPopulationG.append((gGenome, None))\n",
    "print(eval_func(fGenome, gGenome))"
   ]
  },
  {
   "cell_type": "code",
   "execution_count": null,
   "metadata": {
    "collapsed": true
   },
   "outputs": [],
   "source": []
  }
 ],
 "metadata": {
  "kernelspec": {
   "display_name": "Python 3",
   "language": "python",
   "name": "python3"
  },
  "language_info": {
   "codemirror_mode": {
    "name": "ipython",
    "version": 3
   },
   "file_extension": ".py",
   "mimetype": "text/x-python",
   "name": "python",
   "nbconvert_exporter": "python",
   "pygments_lexer": "ipython3",
   "version": "3.6.1"
  },
  "latex_envs": {
   "LaTeX_envs_menu_present": true,
   "autoclose": false,
   "autocomplete": true,
   "bibliofile": "biblio.bib",
   "cite_by": "apalike",
   "current_citInitial": 1,
   "eqLabelWithNumbers": true,
   "eqNumInitial": 1,
   "hotkeys": {
    "equation": "Ctrl-E",
    "itemize": "Ctrl-I"
   },
   "labels_anchors": false,
   "latex_user_defs": false,
   "report_style_numbering": false,
   "user_envs_cfg": false
  }
 },
 "nbformat": 4,
 "nbformat_minor": 2
}
