{
 "cells": [
  {
   "cell_type": "code",
   "execution_count": null,
   "metadata": {
    "collapsed": true
   },
   "outputs": [],
   "source": [
    "import numpy as np\n",
    "import itertools\n",
    "\n",
    "import matplotlib\n",
    "import matplotlib.pyplot as plt\n",
    "from mpl_toolkits.mplot3d import Axes3D"
   ]
  },
  {
   "cell_type": "code",
   "execution_count": null,
   "metadata": {
    "collapsed": true
   },
   "outputs": [],
   "source": [
    "def getTropCoeffs(A1, b1, A2, b2):\n",
    "    A1plus = np.maximum(A1, 0)\n",
    "    A2plus = np.maximum(A2, 0)\n",
    "\n",
    "    A1minus = -np.minimum(A1, 0)\n",
    "    A2minus = -np.minimum(A2, 0)\n",
    "    b1 = b1.reshape(-1, 1)\n",
    "\n",
    "    Fterms = set({})\n",
    "    Gterms = set({})\n",
    "\n",
    "    Fbias = np.matmul(A2minus, A1minus)\n",
    "    Fbias = np.append(Fbias, b2)\n",
    "\n",
    "    Gbias = np.matmul(A2plus, A1minus)\n",
    "    Gbias = np.append(Gbias, 0)\n",
    "\n",
    "    for i in itertools.product([True, False], repeat=np.size(A1, axis=0)):\n",
    "        B = np.zeros(A1.shape)\n",
    "        B[i, :] = A1plus[i, :]\n",
    "        B[tuple((not var for var in i)), :] = A1minus[tuple((not var for var in i)), :]\n",
    "\n",
    "        c = np.zeros(b1.shape)\n",
    "        c[i, :] = b1[i, :]\n",
    "\n",
    "        B = np.concatenate((B, c), axis=1)\n",
    "\n",
    "        Fterm = np.matmul(A2plus, B) + Fbias\n",
    "        Gterm = np.matmul(A2minus, B) + Gbias\n",
    "        Fterms.add(tuple(Fterm[0]))\n",
    "        Gterms.add(tuple(Gterm[0]))\n",
    "\n",
    "    return Fterms, Gterms"
   ]
  },
  {
   "cell_type": "code",
   "execution_count": null,
   "metadata": {
    "collapsed": true
   },
   "outputs": [],
   "source": [
    "def getTropCoeffs(As, bs):\n",
    "    A1 = As[0]\n",
    "    A1plus = np.maximum(A1, 0)\n",
    "    A1minus = -np.minimum(A1, 0)\n",
    "    \n",
    "    b1 = bs[0].reshape(-1, 1)\n",
    "    \n",
    "    for layer in range(1, len(As)):\n",
    "        pass\n",
    "    A1plus = np.maximum(A1, 0)\n",
    "    A2plus = np.maximum(A2, 0)\n",
    "\n",
    "    A1minus = -np.minimum(A1, 0)\n",
    "    A2minus = -np.minimum(A2, 0)\n",
    "    b1 = b1.reshape(-1, 1)\n",
    "\n",
    "    Fterms = set({})\n",
    "    Gterms = set({})\n",
    "\n",
    "    Fbias = np.matmul(A2minus, A1minus)\n",
    "    Fbias = np.append(Fbias, b2)\n",
    "\n",
    "    Gbias = np.matmul(A2plus, A1minus)\n",
    "    Gbias = np.append(Gbias, 0)\n",
    "\n",
    "    for i in itertools.product([True, False], repeat=np.size(A1, axis=0)):\n",
    "        B = np.zeros(A1.shape)\n",
    "        B[i, :] = A1plus[i, :]\n",
    "        B[tuple((not var for var in i)), :] = A1minus[tuple((not var for var in i)), :]\n",
    "\n",
    "        c = np.zeros(b1.shape)\n",
    "        c[i, :] = b1[i, :]\n",
    "\n",
    "        B = np.concatenate((B, c), axis=1)\n",
    "\n",
    "        Fterm = np.matmul(A2plus, B) + Fbias\n",
    "        Gterm = np.matmul(A2minus, B) + Gbias\n",
    "        Fterms.add(tuple(Fterm[0]))\n",
    "        Gterms.add(tuple(Gterm[0]))\n",
    "\n",
    "    return Fterms, Gterms"
   ]
  }
 ],
 "metadata": {
  "kernelspec": {
   "display_name": "Python 3",
   "language": "python",
   "name": "python3"
  },
  "language_info": {
   "codemirror_mode": {
    "name": "ipython",
    "version": 3
   },
   "file_extension": ".py",
   "mimetype": "text/x-python",
   "name": "python",
   "nbconvert_exporter": "python",
   "pygments_lexer": "ipython3",
   "version": "3.6.1"
  },
  "latex_envs": {
   "LaTeX_envs_menu_present": true,
   "autoclose": false,
   "autocomplete": true,
   "bibliofile": "biblio.bib",
   "cite_by": "apalike",
   "current_citInitial": 1,
   "eqLabelWithNumbers": true,
   "eqNumInitial": 1,
   "hotkeys": {
    "equation": "Ctrl-E",
    "itemize": "Ctrl-I"
   },
   "labels_anchors": false,
   "latex_user_defs": false,
   "report_style_numbering": false,
   "user_envs_cfg": false
  }
 },
 "nbformat": 4,
 "nbformat_minor": 2
}
